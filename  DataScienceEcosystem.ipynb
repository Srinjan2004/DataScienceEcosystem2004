{
 "cells": [
  {
   "cell_type": "markdown",
   "id": "1f3b358f-079d-4000-86da-e1476946c091",
   "metadata": {},
   "source": [
    "<h1>Data Science Tools and Ecosystem</h1>"
   ]
  },
  {
   "cell_type": "markdown",
   "id": "94c05bf4-40a8-4f96-81fe-a6fdedb6e08b",
   "metadata": {},
   "source": [
    "In this notebook, Data Science Tools and Ecosystem are summarized."
   ]
  },
  {
   "cell_type": "markdown",
   "id": "19102c73-811b-4507-8e40-186839ff7419",
   "metadata": {},
   "source": [
    "**Objectives:**\n",
    "In this final assignment, we will learn:\n",
    "* Create a Jupyter Notebook\n",
    "* Insert code and markdown cells\n",
    "* Share our notebook through GitHub\n",
    "* List popular languages for Data Science\n",
    "* Create a markdown cell with a table of Data Science tools\n",
    "* Create a code cell to multiply and add numbers\n",
    "*  Create a code cell to convert minutes to hours \n",
    "\n",
    "\n",
    "\n"
   ]
  },
  {
   "cell_type": "markdown",
   "id": "14d1e6d5-c5b9-4838-bae3-91141848d356",
   "metadata": {},
   "source": [
    "Some of the popular languages that Data Scientists use are:\n",
    "1. python\n",
    "2. R\n",
    "3. Scala\n",
    "4. Julia\n",
    "5. SQL\n",
    "6. Java\n",
    "7. Go"
   ]
  },
  {
   "cell_type": "markdown",
   "id": "f0862456-c665-4692-b4ee-2b6751f4d74d",
   "metadata": {},
   "source": [
    "Some of the commonly used libraries used by Data Scientists include:\n",
    "1. Pandas\n",
    "2. NumPy\n",
    "3. SciPy\n",
    "4. Matporlib\n",
    "5. Seaborn"
   ]
  },
  {
   "cell_type": "markdown",
   "id": "2a9a5149-6230-4f4a-bf10-7045b3061c79",
   "metadata": {},
   "source": [
    "<h1>Data Science Tools</h1>\n",
    "<table style=\"border: 1px solid black; border-collapse: collapse; width: 50%;\">\n",
    "  <tr>\n",
    "    <th style=\"border: 1px solid black; padding: 8px; text-align: left;\">Open-Source Development Environment</th>\n",
    "  </tr>\n",
    "  <tr>\n",
    "    <td style=\"border: 1px solid black; padding: 8px;\">Jupyter Notebook</td>\n",
    "  </tr>\n",
    "  <tr>\n",
    "    <td style=\"border: 1px solid black; padding: 8px;\">VS Code</td>\n",
    "  </tr>\n",
    "  <tr>\n",
    "    <td style=\"border: 1px solid black; padding: 8px;\">RStudio</td>\n",
    "  </tr>\n",
    "</table>\n",
    "\n"
   ]
  },
  {
   "cell_type": "markdown",
   "id": "22407457-5d88-4d11-96d1-b355ca537c4e",
   "metadata": {},
   "source": [
    "<h3>Below are a few examples of evaluating arithmetic expressions in Python.</h3>\n"
   ]
  },
  {
   "cell_type": "code",
   "execution_count": 1,
   "id": "9c8ff403-c5ba-4fee-9cff-07ddbf89ec89",
   "metadata": {},
   "outputs": [
    {
     "name": "stdout",
     "output_type": "stream",
     "text": [
      "The value of the operation in j is 17\n"
     ]
    }
   ],
   "source": [
    "#this a simple arithmetic expression to mutiply then add integers\n",
    "j = (3*4)+5\n",
    "print(\"The value of the operation in j is\", j)\n"
   ]
  },
  {
   "cell_type": "code",
   "execution_count": 2,
   "id": "2b35bf31-6eb5-4331-97b2-6c7cb0d2340b",
   "metadata": {},
   "outputs": [
    {
     "name": "stdout",
     "output_type": "stream",
     "text": [
      "200 minutes when convertred into hours returns 3.3333333333333335 hours.\n"
     ]
    }
   ],
   "source": [
    "k = 200 \n",
    "m = 200/60 #This will convert 200 minutes to hours by diving by 60.\n",
    "print(f\"200 minutes when convertred into hours returns {m} hours.\") "
   ]
  },
  {
   "cell_type": "markdown",
   "id": "d393b4d6-bbca-4265-aa06-4da3a07e23b0",
   "metadata": {},
   "source": [
    "<h2>Author</h2>\n",
    "* Srinjan Sanyal"
   ]
  },
  {
   "cell_type": "markdown",
   "id": "2d4461b3-bbbf-4a42-8be5-92f8d352f625",
   "metadata": {},
   "source": [
    "<h3> This jupyter notebook project is part of IBM Data Science Course. </h3>"
   ]
  },
  {
   "cell_type": "code",
   "execution_count": null,
   "id": "4aef3b11-f20f-44d1-9d41-4b692b76ebf2",
   "metadata": {},
   "outputs": [],
   "source": []
  }
 ],
 "metadata": {
  "kernelspec": {
   "display_name": "Python 3 (ipykernel)",
   "language": "python",
   "name": "python3"
  },
  "language_info": {
   "codemirror_mode": {
    "name": "ipython",
    "version": 3
   },
   "file_extension": ".py",
   "mimetype": "text/x-python",
   "name": "python",
   "nbconvert_exporter": "python",
   "pygments_lexer": "ipython3",
   "version": "3.13.0"
  }
 },
 "nbformat": 4,
 "nbformat_minor": 5
}
